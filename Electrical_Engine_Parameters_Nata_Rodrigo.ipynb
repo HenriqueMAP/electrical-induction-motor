{
  "nbformat": 4,
  "nbformat_minor": 0,
  "metadata": {
    "colab": {
      "name": "Electrical-Engine-Parameters-Nata-Rodrigo.ipynb",
      "provenance": [],
      "authorship_tag": "ABX9TyO1IVP/iSPBRkrgop8NRlQd",
      "include_colab_link": true
    },
    "kernelspec": {
      "name": "python3",
      "display_name": "Python 3"
    },
    "language_info": {
      "name": "python"
    }
  },
  "cells": [
    {
      "cell_type": "markdown",
      "metadata": {
        "id": "view-in-github",
        "colab_type": "text"
      },
      "source": [
        "<a href=\"https://colab.research.google.com/github/HenriqueMAP/electrical-induction-motor/blob/main/Electrical_Engine_Parameters_Nata_Rodrigo.ipynb\" target=\"_parent\"><img src=\"https://colab.research.google.com/assets/colab-badge.svg\" alt=\"Open In Colab\"/></a>"
      ]
    },
    {
      "cell_type": "markdown",
      "metadata": {
        "id": "jnW3z2iOLV_4"
      },
      "source": [
        "## Desenvolvido por Natã Rodrigo Santos Pereira\n",
        "\n",
        "### Link do vídeo: https://youtu.be/GJ_lWGTDPd4\n",
        "\n",
        "### Github: https://github.com/natrodrigo\n",
        "\n",
        "---\n",
        "\n",
        "## Cálculos de Parâmetros de Motores Elétricos\n",
        "\n",
        "### Enunciado\n",
        "\n",
        "> Um motor de indução trifásico ligado em Y, de seis polos, tensão de linha de 460Volts, potência ativa de 20kW e frequência de 60Hz, tem os seguintes valores de parâmetros, referidos ao estator:\n",
        "\n",
        "*   R1 = 0,271 Ohms;\n",
        "*   R2 = 0,188 Ohms;\n",
        "\n",
        "*   X1 = 1,12 Ohms;\n",
        "*   X2 = 1,91 Ohms;\n",
        "\n",
        "*   Xm = 23,10 Ohms;\n",
        "*   Escorregamento = 1,6%;\n",
        "\n",
        "#### Objetivos\n",
        "\n",
        ">Realize um código na linguagem de programação de sua preferência para calcular:\n",
        "\n",
        "*   1 - Velocidade;\n",
        "*   2 - Corrente do estator;\n",
        "*   3 - Fator de potência;\n",
        "*   4 - Corrente de rotor;\n",
        "*   5 - Conjugado de partida;\n",
        "*   6 - Conjugado máximo;\n",
        "*   7 - Escorregamento máximo;\n",
        "*   8 - Velocidade de ocorrência do escorregamento;\n",
        "\n",
        "##### Gráfico\n",
        "\n",
        "> Construa uma curva de Conjugado versus Velocidade.\n",
        ">\n",
        "> Considere que a variação de escorregamento está entre o intervalo de \"0 < s < 1\". Ou seja, considere o intervalo completo de variação de \"s\".\n",
        "\n",
        "### Formato de entrega\n",
        "\n",
        "> Realize um pequeno vídeo mostrando os seus resultados e poste no mural digital que está no seguinte link: https://padlet.com/victoriaalejandrafmu/lle1oyktf0nheqmr\n",
        "\n",
        "#### Datas\n",
        "\n",
        "> Solicitação: 20/09/2021\n",
        "> Prazo máximo de entrega: 04/10/2021\n"
      ]
    },
    {
      "cell_type": "markdown",
      "metadata": {
        "id": "OlaeRzpvMUS9"
      },
      "source": [
        "## Importação de Bibliotecas\n",
        "\n",
        "### - math: Cálculos matemáticos\n",
        "### - matplotlib: Gerar o gráfico"
      ]
    },
    {
      "cell_type": "code",
      "metadata": {
        "id": "fSmkV9vWyVmt"
      },
      "source": [
        "import math\n",
        "import matplotlib.pyplot as plt"
      ],
      "execution_count": 43,
      "outputs": []
    },
    {
      "cell_type": "markdown",
      "metadata": {
        "id": "OI__UzsmMqVz"
      },
      "source": [
        "## Definição de funções de cálculos complexos com números imaginários"
      ]
    },
    {
      "cell_type": "code",
      "metadata": {
        "id": "qGjERDb3ylIL"
      },
      "source": [
        "def somacomplex(v1, v2):\n",
        "  return complex(v1.real+v2.real, v1.imag+v2.imag)\n",
        "\n",
        "def subcomplex(v1, v2):\n",
        "  return complex(v1.real-v2.real, v1.imag-v2.imag)\n",
        "\n",
        "def multicomplex(v1, v2):\n",
        "  return complex((v1.real*v2.real)-(v1.imag*v2.imag), (v1.real*v2.imag)+(v1.imag*v2.real))\n",
        "\n",
        "def divcomplex(v1, v2):\n",
        "  numerator = (v1*v2.conjugate())\n",
        "  denominator = (v2*v2.conjugate())\n",
        "  quotientreal = (numerator.real / denominator.real)\n",
        "  quotientimag = (numerator.imag / denominator.real)\n",
        "  return complex(quotientreal, quotientimag)\n",
        "\n",
        "def polar(v1):\n",
        "  return math.sqrt(pow(v1.real, 2) + pow(v1.imag, 2)), math.degrees(math.atan(v1.imag / v1.real))"
      ],
      "execution_count": 44,
      "outputs": []
    },
    {
      "cell_type": "markdown",
      "metadata": {
        "id": "BzUE6sogM4d_"
      },
      "source": [
        "## Definição de parâmetros elétricos e cálculos"
      ]
    },
    {
      "cell_type": "code",
      "metadata": {
        "id": "wPTtbZEsy50t"
      },
      "source": [
        "# Dados do enunciado\n",
        "n_polos = int(6)       # Números de Pólos do Motor\n",
        "v_linha = float(460)   # Tensão de Linha (Volts)\n",
        "potencia = float(20)   # Potência Ativa (kWatts) \n",
        "frequencia = float(60) # Frequência de Operação da Rede (Hz)\n",
        "\n",
        "R1 = float(0.271) # Resistência do Estator (Ohms)\n",
        "R2 = float(0.188) # Resistência do Rotor (Ohms)\n",
        "X1 = float(1.12)  # Indutância do Estator (Ohms)\n",
        "X2 = float(1.91)  # Indutância do Rotor (Ohms)\n",
        "Xm = float(23.10) # Indutância de Magnetização (Ohms)\n",
        "\n",
        "Xm_complex = complex(0, Xm)\n",
        "\n",
        "escorregamento = float(1.6)\n",
        "\n",
        "# Conversão de valor percentual para valor numérico\n",
        "escorregamento = (escorregamento/100)\n",
        "\n",
        "# Constante do valor de PI\n",
        "PI = float(math.pi)\n",
        "\n",
        "# Velocidade Síncrona\n",
        "n_sinc = math.ceil((120 / n_polos) * frequencia)\n",
        "\n",
        "# Velocidade do motor (RPM)\n",
        "nm = math.ceil((1 - escorregamento) * n_sinc)\n",
        "\n",
        "# Velocidade síncrona (RAD/S)\n",
        "w_sinc = n_sinc * (PI / 30)\n",
        "\n",
        "# Velotidade do motor (RAD/S)\n",
        "wm = nm * (PI / 30)\n",
        "\n",
        "# Impedância do Estator (Ohms) Real + jImaginário\n",
        "Z1 = complex(R1, X1)\n",
        "\n",
        "# Impedância do Rotor  (Ohms) Real + jImaginário\n",
        "Z2 = complex((R2 / escorregamento), X2)\n",
        "\n",
        "# Impedância equivalente do motor  (Ohms) Real + jImaginário\n",
        "Zeq = somacomplex(divcomplex(multicomplex(Z2, Xm_complex), somacomplex(Z2, Xm_complex)), Z1)\n",
        "\n",
        "# Tensão de linha (Volts)\n",
        "v_linha = complex(v_linha, 0)\n",
        "\n",
        "# Tensão de fase (Volts)\n",
        "v_fase = complex((v_linha.real / math.sqrt(3)), 0)\n",
        "\n",
        "# Corrente do Estator (Ampére)\n",
        "I1 = divcomplex(v_fase, Zeq)\n",
        "\n",
        "# Módulo da Corrente do Estator (Ampére)\n",
        "I1 = polar(I1)\n",
        "\n",
        "# Fator de Potência (Percentual)\n",
        "FP = math.cos(math.radians(I1[1]))\n",
        "\n",
        "# Tensão de Thevénin (Volts)\n",
        "Vth = ((Xm * v_fase) / (math.sqrt(pow(R1, 2) + pow(X1 + Xm, 2))))\n",
        "\n",
        "# Resistência de Thevénin (Ampére)\n",
        "Rth = (R1 * pow((Xm /(X1 + Xm)), 2))\n",
        "\n",
        "# Indutância de Thevénin (Ohms)\n",
        "Xth = X1\n",
        "\n",
        "# Corrente do Rotor (Ampére)\n",
        "I2 = (Vth / (math.sqrt(pow((Rth + (R2 / escorregamento)), 2) + pow((Xth + X2), 2))))\n",
        "\n",
        "# Rendimento ou Eficiência (Porcentagem)\n",
        "P_EF = (3 * pow(I2, 2) * (R2 / escorregamento))\n",
        "\n",
        "# Escorregamento Máximo\n",
        "s_max = (R2 / math.sqrt(pow(Rth, 2) + pow((Xth + X2), 2)))\n",
        "\n",
        "# Conjugado Induzido (Nm)\n",
        "t_ind = ((3 * pow(Vth, 2) * (R2 / escorregamento)) / (w_sinc * (pow((Rth + (R2 / escorregamento)),2) + pow((Xth + X2), 2))))\n",
        "\n",
        "# Conjugado Máximo (Nm)\n",
        "t_max = ((3 * pow(Vth, 2)) / ((2 * w_sinc) * (Rth + math.sqrt(pow(Rth, 2) + pow((Xth + X2), 2)))))\n",
        "\n",
        "# Conjugado de Partida (Nm)\n",
        "t_partida = ((3 * pow(Vth, 2) * (R2 / 1)) / (w_sinc * (pow((Rth + (R2 / 1)), 2) + pow((Xth + X2), 2))))\n",
        "\n",
        "# Velocidade de ocorrência do escorregamento\n",
        "n_tmax = ((1 - s_max) * n_sinc)"
      ],
      "execution_count": 45,
      "outputs": []
    },
    {
      "cell_type": "markdown",
      "metadata": {
        "id": "hfHQpcV8iP9i"
      },
      "source": [
        "## Resultados dos cálculos"
      ]
    },
    {
      "cell_type": "code",
      "metadata": {
        "colab": {
          "base_uri": "https://localhost:8080/"
        },
        "id": "aV4AB2X3d6Z6",
        "outputId": "a9a1498a-00d8-4419-f7c9-b30189ed782f"
      },
      "source": [
        "print(\"\\nVelocidade Síncrona = \" + str(n_sinc) + \" RPM\")\n",
        "print(\"\\nVelocidade do Motor = \" + str(nm) + \" RPM\")\n",
        "\n",
        "print(\"\\n-----------------------------------------------\")\n",
        "\n",
        "print(\"\\nVelocidade Síncrona = \" + str(w_sinc) + \" Rad/s\")\n",
        "print(\"\\nVelocidade do Motor = \" + str(wm) + \" Rad/s\")\n",
        "\n",
        "print(\"\\n-----------------------------------------------\")\n",
        "\n",
        "print(\"\\nImpedância do Estator = \" + str(Z1) + \" Ohms\")\n",
        "print(\"\\nImpedância do Rotor = \" + str(Z2) + \" Ohms\")\n",
        "print(\"\\nImpedância do Equivalente = \" + str(Zeq) + \" Ohms\")\n",
        "\n",
        "print(\"\\n-----------------------------------------------\")\n",
        "\n",
        "print(\"\\nTensão de Linha = \" + str(v_linha) + \" Volts\")\n",
        "print(\"\\nTensão de Fase = \" + str(v_fase) + \" Volts\")\n",
        "\n",
        "print(\"\\n-----------------------------------------------\")\n",
        "\n",
        "print(\"\\nCorrente do Estator = \" + str(I1) + \" Ampère\")\n",
        "print(\"\\nCorrente do Rotor = \" + str(I2) + \" Ampère\")\n",
        "\n",
        "print(\"\\n-----------------------------------------------\")\n",
        "\n",
        "print(\"\\nFator de Potência = \" + str(FP) + \" %\")\n",
        "\n",
        "print(\"\\n-----------------------------------------------\")\n",
        "\n",
        "print(\"\\nTensão de Thevénin = \" + str(Vth) + \" Volts\")\n",
        "print(\"\\nResistência de Thevénin = \" + str(Rth) + \" Ampère\")\n",
        "print(\"\\nIndutância de Thevénin = \" + str(Xth) + \" Ohms\")\n",
        "\n",
        "print(\"\\n-----------------------------------------------\")\n",
        "\n",
        "print(\"\\nRendimento ou Eficiência = \" + str(P_EF) + \" %\")\n",
        "\n",
        "print(\"\\n-----------------------------------------------\")\n",
        "\n",
        "print(\"\\nEscorregamento Máximo = \" + str(s_max) + \" \")\n",
        "print(\"\\nConjugado Máximo = \" + str(t_max) + \" Nm\")\n",
        "\n",
        "print(\"\\nConjugado Induzido = \" + str(t_ind) + \" Nm\")\n",
        "\n",
        "print(\"\\nConjugado de Partida = \" + str(t_partida) + \" Nm\")\n",
        "print(\"\\nVelocidade de Ocorrência do Escorregamento = \" + str(n_tmax) + \" RPM\")"
      ],
      "execution_count": 46,
      "outputs": [
        {
          "output_type": "stream",
          "name": "stdout",
          "text": [
            "\n",
            "Velocidade Síncrona = 1200 RPM\n",
            "\n",
            "Velocidade do Motor = 1181 RPM\n",
            "\n",
            "-----------------------------------------------\n",
            "\n",
            "Velocidade Síncrona = 125.66370614359172 Rad/s\n",
            "\n",
            "Velocidade do Motor = 123.67403079631818 Rad/s\n",
            "\n",
            "-----------------------------------------------\n",
            "\n",
            "Impedância do Estator = (0.271+1.12j) Ohms\n",
            "\n",
            "Impedância do Rotor = (11.75+1.91j) Ohms\n",
            "\n",
            "Impedância do Equivalente = (8.48239943208324+6.741948953497722j) Ohms\n",
            "\n",
            "-----------------------------------------------\n",
            "\n",
            "Tensão de Linha = (460+0j) Volts\n",
            "\n",
            "Tensão de Fase = (265.5811238272279+0j) Volts\n",
            "\n",
            "-----------------------------------------------\n",
            "\n",
            "Corrente do Estator = (24.510600566975313, -38.47824811868214) Ampère\n",
            "\n",
            "Corrente do Rotor = (20.470295100346398+0j) Ampère\n",
            "\n",
            "-----------------------------------------------\n",
            "\n",
            "Fator de Potência = 0.7828444331178602 %\n",
            "\n",
            "-----------------------------------------------\n",
            "\n",
            "Tensão de Thevénin = (253.28406121497764+0j) Volts\n",
            "\n",
            "Resistência de Thevénin = 0.24651592101306422 Ampère\n",
            "\n",
            "Indutância de Thevénin = 1.12 Ohms\n",
            "\n",
            "-----------------------------------------------\n",
            "\n",
            "Rendimento ou Eficiência = (14770.912597708118+0j) %\n",
            "\n",
            "-----------------------------------------------\n",
            "\n",
            "Escorregamento Máximo = 0.06184187072236265 \n",
            "\n",
            "Conjugado Máximo = (233.00210967963872+0j) Nm\n",
            "\n",
            "Conjugado Induzido = (117.54318769517978+0j) Nm\n",
            "\n",
            "Conjugado de Partida = (30.7297542435278+0j) Nm\n",
            "\n",
            "Velocidade de Ocorrência do Escorregamento = 1125.7897551331648 RPM\n"
          ]
        }
      ]
    },
    {
      "cell_type": "markdown",
      "metadata": {
        "id": "U8HpIInSiVRW"
      },
      "source": [
        "## Gráfico: Curva de Conjugado Induzido versus Velocidade Síncrona"
      ]
    },
    {
      "cell_type": "code",
      "metadata": {
        "colab": {
          "base_uri": "https://localhost:8080/",
          "height": 295
        },
        "id": "Fjao5hyTCVPI",
        "outputId": "ace2aa4b-e234-4241-8f11-cee3c4ef6644"
      },
      "source": [
        "induzido = []\n",
        "\n",
        "for index in range(0, 1200):\n",
        "  s = ((1200 - index) / 1200)\n",
        "  induzido.append(((3 * pow(Vth, 2) * (R2 / s)) / (w_sinc * (pow((Rth + (R2 / s)), 2) + pow((Xth + X2), 2)))).real)\n",
        "\n",
        "plt.xlabel(\"Velocidade (rpm)\")\n",
        "plt.ylabel(\"Conjugado Induzido\")\n",
        "plt.plot(induzido)\n",
        "plt.axis([0,1200,0,240])\n",
        "plt.title(\"Gráfico\")\n",
        "plt.show()"
      ],
      "execution_count": 47,
      "outputs": [
        {
          "output_type": "display_data",
          "data": {
            "image/png": "[encoded data removed]",
            "text/plain": [
              "<Figure size 432x288 with 1 Axes>"
            ]
          },
          "metadata": {
            "needs_background": "light"
          }
        }
      ]
    }
  ]
}