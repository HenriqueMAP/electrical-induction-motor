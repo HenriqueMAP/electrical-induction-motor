{
  "nbformat": 4,
  "nbformat_minor": 0,
  "metadata": {
    "colab": {
      "name": "Alejandra-A1b-Maquinas-Eletricas.ipynb",
      "provenance": [],
      "collapsed_sections": [],
      "include_colab_link": true
    },
    "kernelspec": {
      "name": "python3",
      "display_name": "Python 3"
    },
    "language_info": {
      "name": "python"
    }
  },
  "cells": [
    {
      "cell_type": "markdown",
      "metadata": {
        "id": "view-in-github",
        "colab_type": "text"
      },
      "source": [
        "<a href=\"https://colab.research.google.com/github/HenriqueMAP/electrical-induction-motor/blob/main/Alejandra_A1b_Maquinas_Eletricas.ipynb\" target=\"_parent\"><img src=\"https://colab.research.google.com/assets/colab-badge.svg\" alt=\"Open In Colab\"/></a>"
      ]
    },
    {
      "cell_type": "markdown",
      "metadata": {
        "id": "Y_yK4vCiuNfB"
      },
      "source": [
        "## Atividade A1b - Máquinas Elétricas\n",
        "\n",
        "### Enunciado\n",
        "\n",
        "> Um motor de indução trifásico ligado em Y, de seis polos, tensão de linha de 460Volts, potência ativa de 20kW e frequência de 60Hz, tem os seguintes valores de parâmetros, referidos ao estator:\n",
        "\n",
        "*   R1 = 0,271 Ohms;\n",
        "*   R2 = 0,188 Ohms;\n",
        "\n",
        "*   X1 = 1,12 Ohms;\n",
        "*   X2 = 1,91 Ohms;\n",
        "\n",
        "*   Xm = 23,10 Ohms;\n",
        "*   Escorregamento = 1,6%;\n",
        "\n",
        "#### Objetivos\n",
        "\n",
        ">Realize um código na linguagem de programação de sua preferência para calcular:\n",
        "\n",
        "*   Velocidade;\n",
        "*   Corrente do estator;\n",
        "*   Fator de potência;\n",
        "*   Corrente de rotor;\n",
        "*   Conjugado de partida;\n",
        "*   Conjugado máximo;\n",
        "*   Escorregamento máximo;\n",
        "*   Velocidade de ocorrência do escorregamento;\n",
        "\n",
        "##### Gráfico\n",
        "\n",
        "> Construa uma curva de Conjugado versus Velocidade.\n",
        ">\n",
        "> Considere que a variação de escorregamento está entre o intervalo de \"0 < s < 1\". Ou seja, considere o intervalo completo de variação de \"s\".\n",
        "\n",
        "### Formato de entrega\n",
        "\n",
        "> Realize um pequeno vídeo mostrando os seus resultados e poste no mural digital que está no seguinte link: https://padlet.com/victoriaalejandrafmu/lle1oyktf0nheqmr\n",
        "\n",
        "#### Datas\n",
        "\n",
        "> Solicitação: 20/09/2021\n",
        "> Prazo máximo de entrega: 04/10/2021\n",
        "\n",
        "---\n",
        "\n",
        "### Desenvolvido por Henrique Matheus Alves Pereira\n",
        "### R.A.: 8486961\n",
        "### Nono semestre de Engenharia Elétrica"
      ]
    },
    {
      "cell_type": "code",
      "metadata": {
        "id": "B5cC03CIx8zP"
      },
      "source": [
        "# Importando a biblioteca pylatex para usar linguagem LaTex\n",
        "!pip install pylatex\n",
        "\n",
        "from pylatex import *"
      ],
      "execution_count": null,
      "outputs": []
    },
    {
      "cell_type": "markdown",
      "metadata": {
        "id": "ffbshd3Z9ewW"
      },
      "source": [
        "## Cálculo da velocidade síncrona\n",
        "\n",
        "n_sinc = (120/p) * fse\n",
        "\n",
        "n_sinc = velocidade síncrona [rpm] | (rotações por minuto)\n",
        "\n",
        "p = Quantidade de polos do motor [Adimensional]\n",
        "\n",
        "fse = frequência de fase [Hz] | (Hertz)\n",
        "\n",
        "---\n",
        "\n",
        "p = 6 polos | fse = 60 Hz\n",
        "\n",
        "---\n",
        "\n",
        "n_m = (1 - s) * n_sinc\n",
        "\n",
        "n_m = velocidade do eixo do motor [rpm] | (rotações por minuto)\n",
        "\n",
        "s = escorregamento [ % ] | Porcentagem\n",
        "\n",
        "n_sin = velocidade síncrona [rpm] | (rotações por minuto)\n",
        "\n",
        "---\n",
        "\n",
        "s = 1,6% = 0,0016\n"
      ]
    },
    {
      "cell_type": "code",
      "metadata": {
        "colab": {
          "base_uri": "https://localhost:8080/"
        },
        "id": "c-LgXbW1-rbN",
        "outputId": "5ce4460a-18af-4508-dca4-c120c0b0816c"
      },
      "source": [
        "n_sinc = (120/6) * 60\n",
        "print(\"Velocidade síncrona -> n_sinc = \" + str(n_sinc) + \" rpm\")\n",
        "\n",
        "n_m = (1-0.0016) * n_sinc\n",
        "print(\"\\nVelocidade do eixo do motor -> n_m = \" + str(n_m) + \" rpm\")"
      ],
      "execution_count": null,
      "outputs": [
        {
          "output_type": "stream",
          "name": "stdout",
          "text": [
            "Velocidade síncrona -> n_sinc = 1200.0 rpm\n",
            "\n",
            "Velocidade do eixo do motor -> n_m = 1198.08 rpm\n"
          ]
        }
      ]
    },
    {
      "cell_type": "markdown",
      "metadata": {
        "id": "JGb2iBhWTlVd"
      },
      "source": [
        "## Corrente do estator\n",
        "\n",
        "![](https://github.com/HenriqueMAP/electrical-induction-motor/blob/main/Circuito-Equivalente.png?raw=true)\n",
        "\n",
        "Z1 = R1 + jX1\n",
        "\n",
        "Z2 = (R2/s) + jX2\n",
        "\n",
        "Zeq = (Z2/Xm) + Z1\n",
        "\n",
        "V1 = I1 + Zeq\n",
        "\n",
        "---\n",
        "\n",
        "R1 = 0,271 Ohms | X1 = 1,12 Ohms;\n",
        "\n",
        "R2 = 0,188 Ohms | X2 = 1,91 Ohms;\n",
        "\n",
        "Xm = 23,10 Ohms | s = 1,6 = 0,016;\n",
        "\n",
        "---"
      ]
    },
    {
      "cell_type": "code",
      "metadata": {
        "id": "RFDaGOjqGzAP",
        "colab": {
          "base_uri": "https://localhost:8080/"
        },
        "outputId": "a73516e7-922f-41d8-9228-bf019cf27373"
      },
      "source": [
        "#import cmath for complex number operations \n",
        "import cmath\n",
        "\n",
        "R1 = 0.271\n",
        "X1 = 1.12\n",
        "R2 = 0.188\n",
        "X2 = 1.91\n",
        "Xm = 23.10\n",
        "s  = 0.016\n",
        "\n",
        "# Nas fórmulas abaixo, a letra \"i\" indica números imaginários\n",
        "Z1 = complex(R1, X1)\n",
        "print(\"\\nZ1 = \" + str(Z1) + \" Ohms\")\n",
        "\n",
        "Z2 = complex((R2/s), X2)\n",
        "print(\"\\nZ2 = \" + str(Z2) + \" Ohms\")\n",
        "\n",
        "Xm = complex(0, Xm)\n",
        "print(\"\\nXm rect = \" + str(Xm))\n",
        "\n",
        "XmPolarTupla = cmath.polar(Xm)\n",
        "\n",
        "XmPolarArray = []\n",
        "XmPolarArray.append(XmPolarTupla[0])\n",
        "XmPolarArray.append(XmPolarTupla[1])\n",
        "\n",
        "print(\"\\nXmPolar = \" + str(XmPolarArray))\n",
        "\n",
        "RadToDegrees = (180 / cmath.pi)\n",
        "\n",
        "XmPolarArray[1] = XmPolarArray[1] * (RadToDegrees)\n",
        "print(\"\\nXmPolar[1] = \" + str(XmPolarArray[1]))\n",
        "\n",
        "Z2Array = []\n",
        "Z2Array = str(Z2).split(\"+\")\n",
        "Z2Array[0] = Z2Array[0].replace(\"(\", \"\")\n",
        "Z2Array[1] = Z2Array[1].replace(\")\", \"\")\n",
        "print(\"\\nZ2Array * XmPolarArray = \" + str(float(Z2Array[0]) * XmPolarArray[0]))\n",
        "\n",
        "Z2PolarTupla = cmath.polar(Z2)\n",
        "\n",
        "Z2PolarArray = []\n",
        "Z2PolarArray.append(Z2PolarTupla[0])\n",
        "Z2PolarArray.append(Z2PolarTupla[1])\n",
        "Z2PolarArray[1] = Z2PolarArray[1] * (RadToDegrees)\n",
        "print(\"\\nZ2PolarArray = \" + str(Z2PolarArray))\n",
        "\n",
        "Z2ParalellXm = [str(float(Z2PolarArray[0]) * XmPolarArray[0]), \" < \" ,\n",
        "                str(float(Z2PolarArray[1]) + XmPolarArray[1])]\n",
        "\n",
        "print(\"\\nZ2ParalellXm = \" + str(Z2ParalellXm))\n",
        "\n",
        "Z2ParalellXm.append(Z2Array[0])\n",
        "Z2ParalellXm.append(\"+\")\n",
        "Z2ParalellXm.append(float(Z2Array[1].replace(\"j\",\"\")) + float(str(Xm).replace(\"j\",\"\")))\n",
        "\n",
        "print(\"\\nZ2ParalellXm = \" + str(Z2ParalellXm))\n",
        "\n",
        "\n",
        "Z2ParalellXmRadianos = cmath.polar(complex(float(Z2ParalellXm[3]), float(Z2ParalellXm[5])))\n",
        "\n",
        "print(\"\\nZ2ParalellXmRadianos = \" + str(Z2ParalellXmRadianos))\n",
        "\n",
        "Z2ParalellXmDegrees = []\n",
        "Z2ParalellXmDegrees.append(Z2ParalellXmRadianos[0])\n",
        "Z2ParalellXmDegrees.append(Z2ParalellXmRadianos[1] * RadToDegrees)\n",
        "\n",
        "print(\"\\nZ2ParalellXmDegrees = \" + str(Z2ParalellXmDegrees))\n",
        "\n",
        "Z2ParalellXmResult = []\n",
        "Z2ParalellXmResult.append(float(Z2ParalellXm[0]) / float(Z2ParalellXmDegrees[0]))\n",
        "Z2ParalellXmResult.append(float(Z2ParalellXm[2]) - float(Z2ParalellXmDegrees[1]))\n",
        "\n",
        "print(\"\\nZ2ParalellXmResult = \" + str(Z2ParalellXmResult))\n",
        "\n",
        "Zeq = (cmath.rect(float(Z2ParalellXmResult[0]),float(Z2ParalellXmResult[1])))\n",
        "print(\"\\nZeq = \" + str(Zeq))\n",
        "\n",
        "ZeqArray = []\n",
        "ZeqArray = str(Zeq).split(\"+\")\n",
        "ZeqArray[0] = ZeqArray[0].replace(\"(\", \"\")\n",
        "ZeqArray[1] = ZeqArray[1].replace(\")\", \"\")\n",
        "print(\"\\nZeqArray = \" + str(ZeqArray))\n",
        "\n",
        "Z1Array = []\n",
        "Z1Array = str(Z1).split(\"+\")\n",
        "Z1Array[0] = Z1Array[0].replace(\"(\", \"\")\n",
        "Z1Array[1] = Z1Array[1].replace(\")\", \"\")\n",
        "print(\"\\nZ1Array = \" + str(Z1Array))\n",
        "\n",
        "ZeqTotal = [] \n",
        "ZeqTotal.append(float(ZeqArray[0]) + float(Z1Array[0]))\n",
        "ZeqTotal.append(float(str(ZeqArray[1]).replace(\"j\",\"\")) + float(str(Z1Array[1]).replace(\"j\",\"\")) )\n",
        "\n",
        "ZeqTotalComplex = complex(ZeqTotal[0], ZeqTotal[1])\n",
        "print(\"\\nZeqTotal (complexo)= \" + str(ZeqTotalComplex))\n",
        "\n",
        "ZeqTotalPolar = cmath.polar(ZeqTotalComplex)\n",
        "ZeqTotalPolarArray = []\n",
        "ZeqTotalPolarArray.append(str(ZeqTotalPolar[0]))\n",
        "ZeqTotalPolarArray.append(str(ZeqTotalPolar[1]))\n",
        "\n",
        "print(\"\\nZeqTotal (polar)= \" + str(ZeqTotalPolarArray))"
      ],
      "execution_count": 85,
      "outputs": [
        {
          "output_type": "stream",
          "name": "stdout",
          "text": [
            "\n",
            "Z1 = (0.271+1.12j) Ohms\n",
            "\n",
            "Z2 = (11.75+1.91j) Ohms\n",
            "\n",
            "Xm rect = 23.1j\n",
            "\n",
            "XmPolar = [23.1, 1.5707963267948966]\n",
            "\n",
            "XmPolar[1] = 90.0\n",
            "\n",
            "Z2Array * XmPolarArray = 271.425\n",
            "\n",
            "Z2PolarArray = [11.904226140325123, 9.232855460038456]\n",
            "\n",
            "Z2ParalellXm = ['274.98762384151036', ' < ', '99.23285546003845']\n",
            "\n",
            "Z2ParalellXm = ['274.98762384151036', ' < ', '99.23285546003845', '11.75', '+', 25.01]\n",
            "\n",
            "Z2ParalellXmRadianos = (27.632636501065186, 1.1315893738413583)\n",
            "\n",
            "Z2ParalellXmDegrees = [27.632636501065186, 64.83529526296135]\n",
            "\n",
            "Z2ParalellXmResult = [9.95155217385464, 34.3975601970771]\n",
            "\n",
            "Zeq = (-9.824508825738743+1.5850605672757596j)\n",
            "\n",
            "ZeqArray = ['-9.824508825738743', '1.5850605672757596j']\n",
            "\n",
            "Z1Array = ['0.271', '1.12j']\n",
            "\n",
            "ZeqTotal (complexo)= (-9.553508825738742+2.7050605672757597j)\n",
            "\n",
            "ZeqTotal (polar)= ['9.92909278615616', '2.865666849616025']\n"
          ]
        }
      ]
    }
  ]
}