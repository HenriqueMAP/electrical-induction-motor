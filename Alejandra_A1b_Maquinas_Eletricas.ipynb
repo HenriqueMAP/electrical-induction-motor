{
  "nbformat": 4,
  "nbformat_minor": 0,
  "metadata": {
    "colab": {
      "name": "Alejandra-A1b-Maquinas-Eletricas.ipynb",
      "provenance": [],
      "authorship_tag": "ABX9TyOlBgbIBMoSrcySte7LkoAk",
      "include_colab_link": true
    },
    "kernelspec": {
      "name": "python3",
      "display_name": "Python 3"
    },
    "language_info": {
      "name": "python"
    }
  },
  "cells": [
    {
      "cell_type": "markdown",
      "metadata": {
        "id": "view-in-github",
        "colab_type": "text"
      },
      "source": [
        "<a href=\"https://colab.research.google.com/github/HenriqueMAP/electrical-induction-motor/blob/main/Alejandra_A1b_Maquinas_Eletricas.ipynb\" target=\"_parent\"><img src=\"https://colab.research.google.com/assets/colab-badge.svg\" alt=\"Open In Colab\"/></a>"
      ]
    },
    {
      "cell_type": "markdown",
      "metadata": {
        "id": "Y_yK4vCiuNfB"
      },
      "source": [
        "## Atividade A1b - Máquinas Elétricas\n",
        "\n",
        "### Enunciado\n",
        "\n",
        "> Um motor de indução trifásico ligado em Y, de seis polos, tensão de linha de 460Volts, potência ativa de 20kW e frequência de 60Hz, tem os seguintes valores de parâmetros, referidos ao estator:\n",
        "\n",
        "*   R1 = 0,271 Ohms;\n",
        "*   R2 = 0,188 Ohms;\n",
        "\n",
        "*   X1 = 1,12 Ohms;\n",
        "*   X2 = 1,91 Ohms;\n",
        "\n",
        "*   Xm = 23,10 Ohms;\n",
        "*   Escorregamento = 1,6%;\n",
        "\n",
        "#### Objetivos\n",
        "\n",
        ">Realize um código na linguagem de programação de sua preferência para calcular:\n",
        "\n",
        "*   Velocidade;\n",
        "*   Corrente do estator;\n",
        "*   Fator de potência;\n",
        "*   Corrente de rotor;\n",
        "*   Conjugado de partida;\n",
        "*   Conjugado máximo;\n",
        "*   Escorregamento máximo;\n",
        "*   Velocidade de ocorrência do escorregamento;\n",
        "\n",
        "##### Gráfico\n",
        "\n",
        "> Construa uma curva de Conjugado versus Velocidade.\n",
        ">\n",
        "> Considere que a variação de escorregamento está entre o intervalo de \"0 < s < 1\". Ou seja, considere o intervalo completo de variação de \"s\".\n",
        "\n",
        "### Formato de entrega\n",
        "\n",
        "> Realize um pequeno vídeo mostrando os seus resultados e poste no mural digital que está no seguinte link: https://padlet.com/victoriaalejandrafmu/lle1oyktf0nheqmr\n",
        "\n",
        "#### Datas\n",
        "\n",
        "> Solicitação: 20/09/2021\n",
        "> Prazo máximo de entrega: 04/10/2021\n",
        "\n",
        "---\n",
        "\n",
        "### Desenvolvido por Henrique Matheus Alves Pereira\n",
        "### R.A.: 8486961\n",
        "### Nono semestre de Engenharia Elétrica"
      ]
    },
    {
      "cell_type": "code",
      "metadata": {
        "id": "B5cC03CIx8zP"
      },
      "source": [
        "# Importando a biblioteca pylatex para usar linguagem LaTex\n",
        "!pip install pylatex\n",
        "\n",
        "from pylatex import *"
      ],
      "execution_count": null,
      "outputs": []
    },
    {
      "cell_type": "markdown",
      "metadata": {
        "id": "ffbshd3Z9ewW"
      },
      "source": [
        "## Cálculo da velocidade síncrona\n",
        "\n",
        "n_sinc = (120/p) * fse\n",
        "\n",
        "n_sinc = velocidade síncrona [rpm] | (rotações por minuto)\n",
        "\n",
        "p = Quantidade de polos do motor [Adimensional]\n",
        "\n",
        "fse = frequência de fase [Hz] | (Hertz)\n",
        "\n",
        "---\n",
        "\n",
        "p = 6 polos | fse = 60 Hz\n",
        "\n",
        "---\n",
        "\n",
        "n_m = (1 - s) * n_sinc\n",
        "\n",
        "n_m = velocidade do eixo do motor [rpm] | (rotações por minuto)\n",
        "\n",
        "s = escorregamento [ % ] | Porcentagem\n",
        "\n",
        "n_sin = velocidade síncrona [rpm] | (rotações por minuto)\n",
        "\n",
        "---\n",
        "\n",
        "s = 1,6% = 0,0016\n"
      ]
    },
    {
      "cell_type": "code",
      "metadata": {
        "colab": {
          "base_uri": "https://localhost:8080/"
        },
        "id": "c-LgXbW1-rbN",
        "outputId": "5ce4460a-18af-4508-dca4-c120c0b0816c"
      },
      "source": [
        "n_sinc = (120/6) * 60\n",
        "print(\"Velocidade síncrona -> n_sinc = \" + str(n_sinc) + \" rpm\")\n",
        "\n",
        "n_m = (1-0.0016) * n_sinc\n",
        "print(\"\\nVelocidade do eixo do motor -> n_m = \" + str(n_m) + \" rpm\")"
      ],
      "execution_count": null,
      "outputs": [
        {
          "output_type": "stream",
          "name": "stdout",
          "text": [
            "Velocidade síncrona -> n_sinc = 1200.0 rpm\n",
            "\n",
            "Velocidade do eixo do motor -> n_m = 1198.08 rpm\n"
          ]
        }
      ]
    },
    {
      "cell_type": "markdown",
      "metadata": {
        "id": "t09Q0YzRG0kB"
      },
      "source": [
        "## Cálculo da corrente do estator"
      ]
    },
    {
      "cell_type": "code",
      "metadata": {
        "id": "RFDaGOjqGzAP"
      },
      "source": [
        ""
      ],
      "execution_count": null,
      "outputs": []
    }
  ]
}