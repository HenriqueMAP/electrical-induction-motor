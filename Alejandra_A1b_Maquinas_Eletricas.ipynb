{
  "nbformat": 4,
  "nbformat_minor": 0,
  "metadata": {
    "colab": {
      "name": "Alejandra-A1b-Maquinas-Eletricas.ipynb",
      "provenance": [],
      "collapsed_sections": []
    },
    "kernelspec": {
      "name": "python3",
      "display_name": "Python 3.8.9 64-bit"
    },
    "language_info": {
      "name": "python",
      "version": "3.8.9"
    },
    "interpreter": {
      "hash": "31f2aee4e71d21fbe5cf8b01ff0e069b9275f58929596ceb00d14d90e3e16cd6"
    }
  },
  "cells": [
    {
      "cell_type": "markdown",
      "metadata": {
        "id": "Y_yK4vCiuNfB"
      },
      "source": [
        "## Atividade A1b - Máquinas Elétricas\n",
        "\n",
        "### Enunciado\n",
        "\n",
        "> Um motor de indução trifásico ligado em Y, de seis polos, tensão de linha de 460Volts, potência ativa de 20kW e frequência de 60Hz, tem os seguintes valores de parâmetros, referidos ao estator:\n",
        "\n",
        "*   R1 = 0,271 Ohms;\n",
        "*   R2 = 0,188 Ohms;\n",
        "\n",
        "*   X1 = 1,12 Ohms;\n",
        "*   X2 = 1,91 Ohms;\n",
        "\n",
        "*   Xm = 23,10 Ohms;\n",
        "*   Escorregamento = 1,6%;\n",
        "\n",
        "#### Objetivos\n",
        "\n",
        ">Realize um código na linguagem de programação de sua preferência para calcular:\n",
        "\n",
        "*   1 - Velocidade;\n",
        "*   2 - Corrente do estator;\n",
        "*   3 - Fator de potência;\n",
        "*   4 - Corrente de rotor;\n",
        "*   5 - Conjugado de partida;\n",
        "*   6 - Conjugado máximo;\n",
        "*   7 - Escorregamento máximo;\n",
        "*   8 - Velocidade de ocorrência do escorregamento;\n",
        "\n",
        "##### Gráfico\n",
        "\n",
        "> Construa uma curva de Conjugado versus Velocidade.\n",
        ">\n",
        "> Considere que a variação de escorregamento está entre o intervalo de \"0 < s < 1\". Ou seja, considere o intervalo completo de variação de \"s\".\n",
        "\n",
        "### Formato de entrega\n",
        "\n",
        "> Realize um pequeno vídeo mostrando os seus resultados e poste no mural digital que está no seguinte link: https://padlet.com/victoriaalejandrafmu/lle1oyktf0nheqmr\n",
        "\n",
        "#### Datas\n",
        "\n",
        "> Solicitação: 20/09/2021\n",
        "> Prazo máximo de entrega: 04/10/2021\n",
        "\n",
        "---\n",
        "\n",
        "### Desenvolvido por Henrique Matheus Alves Pereira\n",
        "### R.A.: 8486961\n",
        "### Nono semestre de Engenharia Elétrica"
      ]
    },
    {
      "source": [
        "## Importando as bibliotecas que serão utilizadas"
      ],
      "cell_type": "markdown",
      "metadata": {}
    },
    {
      "cell_type": "code",
      "metadata": {
        "id": "B5cC03CIx8zP",
        "colab": {
          "base_uri": "https://localhost:8080/"
        },
        "outputId": "97882660-b0c2-4208-df62-2188b79857c0"
      },
      "source": [
        "# Importando a biblioteca pylatex para usar linguagem LaTex\n",
        "!pip install pylatex\n",
        "\n",
        "from pylatex import *\n",
        "\n",
        "#import cmath for complex number operations \n",
        "import cmath"
      ],
      "execution_count": 1,
      "outputs": [
        {
          "output_type": "stream",
          "name": "stdout",
          "text": [
            "Collecting pylatex\n",
            "  Downloading PyLaTeX-1.4.1.tar.gz (84 kB)\n",
            "\u001b[?25l\r\u001b[K     |███▉                            | 10 kB 22.8 MB/s eta 0:00:01\r\u001b[K     |███████▊                        | 20 kB 28.6 MB/s eta 0:00:01\r\u001b[K     |███████████▋                    | 30 kB 23.4 MB/s eta 0:00:01\r\u001b[K     |███████████████▍                | 40 kB 18.1 MB/s eta 0:00:01\r\u001b[K     |███████████████████▎            | 51 kB 8.3 MB/s eta 0:00:01\r\u001b[K     |███████████████████████▏        | 61 kB 9.6 MB/s eta 0:00:01\r\u001b[K     |███████████████████████████     | 71 kB 9.0 MB/s eta 0:00:01\r\u001b[K     |██████████████████████████████▉ | 81 kB 10.1 MB/s eta 0:00:01\r\u001b[K     |████████████████████████████████| 84 kB 2.9 MB/s \n",
            "\u001b[?25hCollecting ordered-set\n",
            "  Downloading ordered-set-4.0.2.tar.gz (10 kB)\n",
            "Building wheels for collected packages: pylatex, ordered-set\n",
            "  Building wheel for pylatex (setup.py) ... \u001b[?25l\u001b[?25hdone\n",
            "  Created wheel for pylatex: filename=PyLaTeX-1.4.1-py3-none-any.whl size=42810 sha256=57003341527f8d5f6ff331c98e9c4c55d71279b080c294c72d2b2122b1a0015e\n",
            "  Stored in directory: /root/.cache/pip/wheels/4c/62/73/7688c83647b2103ef0c1b783730c8dc50fbbc3667eea6b1cb8\n",
            "  Building wheel for ordered-set (setup.py) ... \u001b[?25l\u001b[?25hdone\n",
            "  Created wheel for ordered-set: filename=ordered_set-4.0.2-py2.py3-none-any.whl size=8219 sha256=be58a14afc18e76294632b2cccf3a13fe2f4cbd7499fd0af096aeb8670261de6\n",
            "  Stored in directory: /root/.cache/pip/wheels/73/2b/f6/26e9f84153c25050fe7c09e88f8e32a6be3c7034a38c418319\n",
            "Successfully built pylatex ordered-set\n",
            "Installing collected packages: ordered-set, pylatex\n",
            "Successfully installed ordered-set-4.0.2 pylatex-1.4.1\n"
          ]
        }
      ]
    },
    {
      "cell_type": "markdown",
      "metadata": {
        "id": "ffbshd3Z9ewW"
      },
      "source": [
        "## Cálculo da velocidade síncrona\n",
        "\n",
        "### Sub-etapa: Velocidade síncrona\n",
        "\n",
        "n_sinc = (120/p) * fse\n",
        "\n",
        "---\n",
        "\n",
        "### Sub-etapa: Velocidade mecânica\n",
        "\n",
        "n_m = (1 - s) * n_sinc\n",
        "\n",
        "---\n",
        "\n",
        "#### Grandezas elétricas:\n",
        "\n",
        "- fse = frequência de fase (Hz) | (Hertz)\n",
        "\n",
        "- n_m = velocidade do eixo do motor (rpm) | (rotações por minuto)\n",
        "\n",
        "- n_sinc = velocidade síncrona (rpm) | (rotações por minuto)\n",
        "\n",
        "- p = Quantidade de polos do motor (Adimensional)\n",
        "\n",
        "- s = escorregamento (%) | Porcentagem\n"
      ]
    },
    {
      "cell_type": "code",
      "metadata": {
        "colab": {
          "base_uri": "https://localhost:8080/"
        },
        "id": "c-LgXbW1-rbN",
        "outputId": "dc76cd49-0ef6-4c49-e867-76a98bf75e0c"
      },
      "source": [
        "n_sinc = (120/6) * 60\n",
        "print(\"\\nn_sinc - Velocidade síncrona = \" + str(n_sinc) + \" rpm\")\n",
        "\n",
        "n_m = (1-0.016) * n_sinc\n",
        "print(\"\\nn_m - Velocidade do eixo do motor = \" + str(n_m) + \" rpm\")"
      ],
      "execution_count": 2,
      "outputs": [
        {
          "output_type": "stream",
          "name": "stdout",
          "text": [
            "Velocidade síncrona -> n_sinc = 1200.0 rpm\n",
            "\n",
            "Velocidade do eixo do motor -> n_m = 1180.8 rpm\n"
          ]
        }
      ]
    },
    {
      "cell_type": "markdown",
      "metadata": {
        "id": "JGb2iBhWTlVd"
      },
      "source": [
        "## Cálculo da corrente do estator\n",
        "\n",
        "![](https://github.com/HenriqueMAP/electrical-induction-motor/blob/main/Circuito-Equivalente.png?raw=true)\n",
        "\n",
        "### Sub-etapa: Impedância do estator\n",
        "\n",
        "Z1 = R1 + jX1\n",
        "\n",
        "> retorna um número complexo, ou seja, Z1 = (real + jImaginário). Em Python, é uma tupla.\n",
        "\n",
        "---\n",
        "\n",
        "### Sub-etapa: Impedância do rotor\n",
        "\n",
        "Z2 = (R2/s) + jX2\n",
        "\n",
        "> retorna um número complexo, ou seja, Z2 = (real + jImaginário). Em Python, é uma tupla.\n",
        "\n",
        "---\n",
        "\n",
        "### Sub-etapa: Impedância equivalente\n",
        "\n",
        "Zeq = (Z2/Xm) + Z1\n",
        "\n",
        "> retorna um número complexo, ou seja, Zeq = (real + jImaginário). Em Python, é uma tupla.\n",
        "\n",
        "\n",
        "\n",
        "> *Observação:\n",
        "> \n",
        "> Processamento 1 (Z2/Xm) = ((Z2 * Xm) / (Z2 + Xm))\n",
        ">\n",
        "> Processamento 2 (Z2/Xm) = ((Z2Polar * XmPolar) / (Z2Retangular + XmRetangular))\n",
        "> \n",
        "> Z2Polar e XmPolar = (módulo ∟ ângulo)\n",
        ">\n",
        "> Z2Retangular e XmRetangular = (real + jImaginário)\n",
        ">\n",
        "> Processamento 3 (Z2/Xm) = ((Z2MultXmPolar) / (Z2PlusXmRetangular))\n",
        "> \n",
        "> Processamento 4 (Z2/Xm) = ((Z2MultXmPolar) / (Z2PlusXmPolar))\n",
        ">\n",
        "> Processamento 5 Zeq = Z2DivXmPolar + Z1Retangular\n",
        ">\n",
        "> Processamento 6 Zeq = Z2DivXmRetangular + Z1Retangular\n",
        ">\n",
        "> Processamento 7 Zeq = (real + jImaginário)\n",
        "\n",
        "---\n",
        "\n",
        "### Sub-etapa: Tensão no estator\n",
        "\n",
        "V1 = I1 + Zeq\n",
        "\n",
        "---\n",
        "\n",
        "#### Grandezas elétricas:\n",
        "\n",
        "- I1 = Corrente no estator | (A) - Ampère\n",
        "\n",
        "- jX1 = Impedância em formato imaginário do estator | (Ω) - Ohms\n",
        "\n",
        "- jX2 = Impedância em formato imaginário do rotor | (Ω) - Ohms\n",
        "\n",
        "- R1 = Resistência do estator | (Ω) - Ohms\n",
        "\n",
        "- R2 = Resistência do rotor | (Ω) - Ohms\n",
        "\n",
        "- s = Escorregamento | (%) - Porcentagem\n",
        "\n",
        "- V1 = Tensão no estator | (V) - Volts\n",
        "\n",
        "- Z1 = Impedância do estator | (Ω) - Ohms\n",
        "\n",
        "- Z2 = Impedância do rotor | (Ω) - Ohms\n",
        "\n",
        "- Zeq = Impedância equivalente | (Ω) - Ohms\n",
        "\n",
        "---"
      ]
    },
    {
      "cell_type": "code",
      "metadata": {
        "id": "RFDaGOjqGzAP",
        "colab": {
          "base_uri": "https://localhost:8080/"
        },
        "cellView": "code",
        "outputId": "4c2a1b2e-ebfd-4199-8081-ab9f19d28990"
      },
      "source": [
        "R1 = 0.271\n",
        "X1 = 1.12\n",
        "R2 = 0.188\n",
        "X2 = 1.91\n",
        "Xm = 23.10\n",
        "s  = 0.016\n",
        "\n",
        "# Nas fórmulas abaixo, a letra \"i\" indica números imaginários\n",
        "Z1 = complex(R1, X1)\n",
        "print(\"\\nZ1 = \" + str(Z1) + \" Ohms\")\n",
        "\n",
        "Z2 = complex((R2/s), X2)\n",
        "print(\"\\nZ2 = \" + str(Z2) + \" Ohms\")\n",
        "\n",
        "Xm = complex(0, Xm)\n",
        "print(\"\\nXm rect = \" + str(Xm))\n",
        "\n",
        "XmPolarTupla = cmath.polar(Xm)\n",
        "\n",
        "XmPolarArray = []\n",
        "XmPolarArray.append(XmPolarTupla[0])\n",
        "XmPolarArray.append(XmPolarTupla[1])\n",
        "\n",
        "print(\"\\nXmPolar = \" + str(XmPolarArray))\n",
        "\n",
        "RadToDegrees = (180 / cmath.pi)\n",
        "\n",
        "XmPolarArray[1] = XmPolarArray[1] * (RadToDegrees)\n",
        "print(\"\\nXmPolar[1] = \" + str(XmPolarArray[1]))\n",
        "\n",
        "Z2Array = []\n",
        "Z2Array = str(Z2).split(\"+\")\n",
        "Z2Array[0] = Z2Array[0].replace(\"(\", \"\")\n",
        "Z2Array[1] = Z2Array[1].replace(\")\", \"\")\n",
        "print(\"\\nZ2Array * XmPolarArray = \" + str(float(Z2Array[0]) * XmPolarArray[0]))\n",
        "\n",
        "Z2PolarTupla = cmath.polar(Z2)\n",
        "\n",
        "Z2PolarArray = []\n",
        "Z2PolarArray.append(Z2PolarTupla[0])\n",
        "Z2PolarArray.append(Z2PolarTupla[1])\n",
        "Z2PolarArray[1] = Z2PolarArray[1] * (RadToDegrees)\n",
        "print(\"\\nZ2PolarArray = \" + str(Z2PolarArray))\n",
        "\n",
        "Z2ParalellXm = [str(float(Z2PolarArray[0]) * XmPolarArray[0]), \" < \" ,\n",
        "                str(float(Z2PolarArray[1]) + XmPolarArray[1])]\n",
        "\n",
        "print(\"\\nZ2ParalellXm = \" + str(Z2ParalellXm))\n",
        "\n",
        "Z2ParalellXm.append(Z2Array[0])\n",
        "Z2ParalellXm.append(\"+\")\n",
        "Z2ParalellXm.append(float(Z2Array[1].replace(\"j\",\"\")) + float(str(Xm).replace(\"j\",\"\")))\n",
        "\n",
        "print(\"\\nZ2ParalellXm = \" + str(Z2ParalellXm))\n",
        "\n",
        "\n",
        "Z2ParalellXmRadianos = cmath.polar(complex(float(Z2ParalellXm[3]), float(Z2ParalellXm[5])))\n",
        "\n",
        "print(\"\\nZ2ParalellXmRadianos = \" + str(Z2ParalellXmRadianos))\n",
        "\n",
        "Z2ParalellXmDegrees = []\n",
        "Z2ParalellXmDegrees.append(Z2ParalellXmRadianos[0])\n",
        "Z2ParalellXmDegrees.append(Z2ParalellXmRadianos[1] * RadToDegrees)\n",
        "\n",
        "print(\"\\nZ2ParalellXmDegrees = \" + str(Z2ParalellXmDegrees))\n",
        "\n",
        "Z2ParalellXmResult = []\n",
        "Z2ParalellXmResult.append(float(Z2ParalellXm[0]) / float(Z2ParalellXmDegrees[0]))\n",
        "Z2ParalellXmResult.append(float(Z2ParalellXm[2]) - float(Z2ParalellXmDegrees[1]))\n",
        "\n",
        "print(\"\\nZ2ParalellXmResult = \" + str(Z2ParalellXmResult))\n",
        "\n",
        "Zeq = (cmath.rect(float(Z2ParalellXmResult[0]),float(Z2ParalellXmResult[1])))\n",
        "print(\"\\nZeq = \" + str(Zeq))\n",
        "\n",
        "ZeqArray = []\n",
        "ZeqArray = str(Zeq).split(\"+\")\n",
        "ZeqArray[0] = ZeqArray[0].replace(\"(\", \"\")\n",
        "ZeqArray[1] = ZeqArray[1].replace(\")\", \"\")\n",
        "print(\"\\nZeqArray = \" + str(ZeqArray))\n",
        "\n",
        "Z1Array = []\n",
        "Z1Array = str(Z1).split(\"+\")\n",
        "Z1Array[0] = Z1Array[0].replace(\"(\", \"\")\n",
        "Z1Array[1] = Z1Array[1].replace(\")\", \"\")\n",
        "print(\"\\nZ1Array = \" + str(Z1Array))\n",
        "\n",
        "ZeqTotal = [] \n",
        "ZeqTotal.append(float(ZeqArray[0]) + float(Z1Array[0]))\n",
        "ZeqTotal.append(float(str(ZeqArray[1]).replace(\"j\",\"\")) + float(str(Z1Array[1]).replace(\"j\",\"\")) )\n",
        "\n",
        "ZeqTotalComplex = complex(ZeqTotal[0], ZeqTotal[1])\n",
        "print(\"\\nZeqTotal (complexo)= \" + str(ZeqTotalComplex))\n",
        "\n",
        "ZeqTotalPolar = cmath.polar(ZeqTotalComplex)\n",
        "ZeqTotalPolarArray = []\n",
        "ZeqTotalPolarArray.append(str(ZeqTotalPolar[0]))\n",
        "ZeqTotalPolarArray.append(str(ZeqTotalPolar[1]))\n",
        "\n",
        "print(\"\\nZeqTotal (polar)= \" + str(ZeqTotalPolarArray))\n",
        "\n",
        "print(\"\\nI1 = (V1 / Zeq)\")\n",
        "\n",
        "V1 = (460 / pow(3,0.5))\n",
        "\n",
        "I1 = []\n",
        "I1.append(float(V1) / float(ZeqTotalPolarArray[0]))\n",
        "I1.append(\"-\" + str(ZeqTotalPolarArray[1]))\n",
        "\n",
        "print(\"\\nI1 = \" + str(I1[0]) + \" < \" + str(I1[1]) + \" Ampére\")\n",
        "\n",
        "print(\"\\nI1 (módulo) = \" + str(I1[0]) + \" Ampére\")"
      ],
      "execution_count": 3,
      "outputs": [
        {
          "output_type": "stream",
          "name": "stdout",
          "text": [
            "\n",
            "Z1 = (0.271+1.12j) Ohms\n",
            "\n",
            "Z2 = (11.75+1.91j) Ohms\n",
            "\n",
            "Xm rect = 23.1j\n",
            "\n",
            "XmPolar = [23.1, 1.5707963267948966]\n",
            "\n",
            "XmPolar[1] = 90.0\n",
            "\n",
            "Z2Array * XmPolarArray = 271.425\n",
            "\n",
            "Z2PolarArray = [11.904226140325123, 9.232855460038456]\n",
            "\n",
            "Z2ParalellXm = ['274.98762384151036', ' < ', '99.23285546003845']\n",
            "\n",
            "Z2ParalellXm = ['274.98762384151036', ' < ', '99.23285546003845', '11.75', '+', 25.01]\n",
            "\n",
            "Z2ParalellXmRadianos = (27.632636501065186, 1.1315893738413583)\n",
            "\n",
            "Z2ParalellXmDegrees = [27.632636501065186, 64.83529526296135]\n",
            "\n",
            "Z2ParalellXmResult = [9.95155217385464, 34.3975601970771]\n",
            "\n",
            "Zeq = (-9.824508825738743+1.5850605672757596j)\n",
            "\n",
            "ZeqArray = ['-9.824508825738743', '1.5850605672757596j']\n",
            "\n",
            "Z1Array = ['0.271', '1.12j']\n",
            "\n",
            "ZeqTotal (complexo)= (-9.553508825738742+2.7050605672757597j)\n",
            "\n",
            "ZeqTotal (polar)= ['9.92909278615616', '2.865666849616025']\n",
            "\n",
            "I1 = (V1 / Zeq)\n",
            "\n",
            "I1 = 26.747773391494515 < -2.865666849616025 Ampére\n",
            "\n",
            "I1 (módulo) = 26.747773391494515 Ampére\n"
          ]
        }
      ]
    },
    {
      "cell_type": "markdown",
      "metadata": {
        "id": "yxinZuKV2kou"
      },
      "source": [
        "## Cálculo de fator de potência (FP)\n",
        "\n",
        "FP = cos 𝜽"
      ]
    },
    {
      "cell_type": "code",
      "metadata": {
        "colab": {
          "base_uri": "https://localhost:8080/"
        },
        "id": "Dl-MoOmp2aMz",
        "outputId": "888ec195-8516-418c-cc39-50d72077be3e"
      },
      "source": [
        "cosI1FP = cmath.cos(-2.8656)\n",
        "\n",
        "print(\"\\n cosI1FP = \" + str(cosI1FP))"
      ],
      "execution_count": 4,
      "outputs": [
        {
          "output_type": "stream",
          "name": "stdout",
          "text": [
            "\n",
            " cosI1FP = (-0.9621551714625783+0j)\n"
          ]
        }
      ]
    },
    {
      "cell_type": "markdown",
      "metadata": {
        "id": "5zE00DpR0vNd"
      },
      "source": [
        "## Corrente de rotor\n",
        "\n",
        "### Sub-etapa: Tensão de Thevénin\n",
        "\n",
        "Vth = V𝜽 * (Xm / √((R1^2) + (X1 + Xm)^2))\n",
        "\n",
        "---\n",
        "\n",
        "### Sub-etapa: Resistência de Thevénin\n",
        "\n",
        "Rth = R1 * (Xm / (X1 + Xm))^2\n",
        "\n",
        "---\n",
        "\n",
        "### Sub-etapa: Indutância de Thevénin\n",
        "\n",
        "Xth ≈ X1\n",
        "\n",
        "---\n",
        "\n",
        "### Sub-etapa: Corrente de rotor\n",
        "\n",
        "I2 = (Vth / (Zth + Z2))\n",
        "\n",
        "I2 = (Vth / √(Rth + (R2/s)^2 + (Xth + X2)^2))\n",
        "\n",
        "---\n",
        "\n",
        "#### Gradenzas elétricas:\n",
        "\n",
        "- I1 = Corrente do estator | (A) - Ampère\n",
        "\n",
        "- I2 = Corrente do rotor | (A) - Ampère\n",
        "\n",
        "- R1 = Resistência do estator | (Ω) - Ohms\n",
        "\n",
        "- R2 = Resistência do rotor | (Ω) - Ohms\n",
        "\n",
        "- V𝜽 = Tensão de fase | (V) - Volts\n",
        "\n",
        "- Vth = Tensão de Thevénin no rotor | (V) - Volts\n",
        "\n",
        "- X1 = Indutância do rotor | (Ω) - Ohms\n",
        "\n",
        "- Xth = Indutância de Thevénin | (Ω) - Ohms\n",
        "\n",
        "- Xm = Indutância | (Ω) - Ohms\n"
      ]
    },
    {
      "cell_type": "code",
      "execution_count": 14,
      "metadata": {},
      "outputs": [
        {
          "output_type": "stream",
          "name": "stdout",
          "text": [
            "\nVth - Tensão de Thevénin = 253.28406121497767 Volts\n\nRth - Resistência de Thevénin = 0.26465994104333884 Ω\n\nI2 - Corrente do Rotor = 20.854509785319273 A\n"
          ]
        }
      ],
      "source": [
        "V0 = (460 / pow(3, 0.5))\n",
        "R1 = 0.271\n",
        "X1 = 1.12\n",
        "R2 = 0.188\n",
        "X2 = 1.91\n",
        "Xm = 23.10\n",
        "s  = 0.016\n",
        "\n",
        "Vth = V0 * (Xm / pow((pow(R1, 2) + pow((X1 + Xm), 2)), 0.5))\n",
        "print(\"\\nVth - Tensão de Thevénin = \" + str(Vth) + \" Volts\")\n",
        "\n",
        "Rth = R1 * pow((Xm / (X1 + Xm)),0.5)\n",
        "print(\"\\nRth - Resistência de Thevénin = \" + str(Rth) + \" Ω\")\n",
        "\n",
        "Xth = X1\n",
        "\n",
        "I2 = (Vth / pow((Rth + pow((R2/s),2) + pow((Xth + X2),2)), 0.5))\n",
        "print(\"\\nI2 - Corrente do Rotor = \" + str(I2) + \" A\")\n"
      ]
    },
    {
      "cell_type": "markdown",
      "metadata": {
        "id": "KTYpkErF0xIz"
      },
      "source": [
        "## Conjugado de partida"
      ]
    },
    {
      "cell_type": "markdown",
      "metadata": {
        "id": "fuUuEciD0yqC"
      },
      "source": [
        "## Conjugado máximo"
      ]
    },
    {
      "cell_type": "markdown",
      "metadata": {
        "id": "WOOSY5jX00L8"
      },
      "source": [
        "## Escorregamento máximo"
      ]
    },
    {
      "cell_type": "markdown",
      "metadata": {
        "id": "0bl0_q3w01i7"
      },
      "source": [
        "## Velocidade de ocorrência do escorregamento"
      ]
    }
  ]
}