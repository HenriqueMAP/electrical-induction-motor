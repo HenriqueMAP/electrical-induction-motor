{
  "nbformat": 4,
  "nbformat_minor": 0,
  "metadata": {
    "colab": {
      "name": "Alejandra_A1b_Maquinas_Eletricas.ipynb",
      "provenance": [],
      "collapsed_sections": [],
      "include_colab_link": true
    },
    "kernelspec": {
      "name": "python3",
      "display_name": "Python 3.8.9 64-bit"
    },
    "language_info": {
      "name": "python",
      "version": "3.8.9",
      "mimetype": "text/x-python",
      "codemirror_mode": {
        "name": "ipython",
        "version": 3
      },
      "pygments_lexer": "ipython3",
      "nbconvert_exporter": "python",
      "file_extension": ".py"
    },
    "interpreter": {
      "hash": "31f2aee4e71d21fbe5cf8b01ff0e069b9275f58929596ceb00d14d90e3e16cd6"
    }
  },
  "cells": [
    {
      "cell_type": "markdown",
      "metadata": {
        "id": "view-in-github",
        "colab_type": "text"
      },
      "source": [
        "<a href=\"https://colab.research.google.com/github/HenriqueMAP/electrical-induction-motor/blob/main/Alejandra_A1b_Maquinas_Eletricas.ipynb\" target=\"_parent\"><img src=\"https://colab.research.google.com/assets/colab-badge.svg\" alt=\"Open In Colab\"/></a>"
      ]
    },
    {
      "cell_type": "markdown",
      "metadata": {
        "id": "Y_yK4vCiuNfB"
      },
      "source": [
        "## Atividade A1b - Máquinas Elétricas\n",
        "\n",
        "### Enunciado\n",
        "\n",
        "> Um motor de indução trifásico ligado em Y, de seis polos, tensão de linha de 460Volts, potência ativa de 20kW e frequência de 60Hz, tem os seguintes valores de parâmetros, referidos ao estator:\n",
        "\n",
        "*   R1 = 0,271 Ohms;\n",
        "*   R2 = 0,188 Ohms;\n",
        "\n",
        "*   X1 = 1,12 Ohms;\n",
        "*   X2 = 1,91 Ohms;\n",
        "\n",
        "*   Xm = 23,10 Ohms;\n",
        "*   Escorregamento = 1,6%;\n",
        "\n",
        "#### Objetivos\n",
        "\n",
        ">Realize um código na linguagem de programação de sua preferência para calcular:\n",
        "\n",
        "*   1 - Velocidade;\n",
        "*   2 - Corrente do estator;\n",
        "*   3 - Fator de potência;\n",
        "*   4 - Corrente de rotor;\n",
        "*   5 - Conjugado de partida;\n",
        "*   6 - Conjugado máximo;\n",
        "*   7 - Escorregamento máximo;\n",
        "*   8 - Velocidade de ocorrência do escorregamento;\n",
        "\n",
        "##### Gráfico\n",
        "\n",
        "> Construa uma curva de Conjugado versus Velocidade.\n",
        ">\n",
        "> Considere que a variação de escorregamento está entre o intervalo de \"0 < s < 1\". Ou seja, considere o intervalo completo de variação de \"s\".\n",
        "\n",
        "### Formato de entrega\n",
        "\n",
        "> Realize um pequeno vídeo mostrando os seus resultados e poste no mural digital que está no seguinte link: https://padlet.com/victoriaalejandrafmu/lle1oyktf0nheqmr\n",
        "\n",
        "#### Datas\n",
        "\n",
        "> Solicitação: 20/09/2021\n",
        "> Prazo máximo de entrega: 04/10/2021\n",
        "\n",
        "---\n",
        "\n",
        "### Desenvolvido por Henrique Matheus Alves Pereira\n",
        "### R.A.: 8486961\n",
        "### Nono semestre de Engenharia Elétrica"
      ]
    },
    {
      "cell_type": "markdown",
      "metadata": {
        "id": "ByWZPFeSE_WR"
      },
      "source": [
        "## Importando as bibliotecas que serão utilizadas"
      ]
    },
    {
      "cell_type": "code",
      "metadata": {
        "id": "B5cC03CIx8zP"
      },
      "source": [
        "# Importando a biblioteca pylatex para usar linguagem LaTex\n",
        "#!pip install pylatex\n",
        "\n",
        "#from pylatex import *\n",
        "\n",
        "#import cmath for complex number operations \n",
        "import cmath\n",
        "\n",
        "import math"
      ],
      "execution_count": 124,
      "outputs": []
    },
    {
      "cell_type": "markdown",
      "metadata": {
        "id": "ffbshd3Z9ewW"
      },
      "source": [
        "## Etapa 1: Cálculo da velocidade síncrona\n",
        "\n",
        "### Sub-etapa: Velocidade síncrona\n",
        "\n",
        "n_sinc = (120/p) * fse\n",
        "\n",
        "---\n",
        "\n",
        "### Sub-etapa: Velocidade mecânica\n",
        "\n",
        "n_m = (1 - s) * n_sinc\n",
        "\n",
        "---\n",
        "\n",
        "#### Grandezas elétricas:\n",
        "\n",
        "- fse = frequência de fase (Hz) | (Hertz)\n",
        "\n",
        "- n_m = velocidade do eixo do motor (rpm) | (rotações por minuto)\n",
        "\n",
        "- n_sinc = velocidade síncrona (rpm) | (rotações por minuto)\n",
        "\n",
        "- p = Quantidade de polos do motor (Adimensional)\n",
        "\n",
        "- s = escorregamento (%) | Porcentagem\n"
      ]
    },
    {
      "cell_type": "code",
      "metadata": {
        "colab": {
          "base_uri": "https://localhost:8080/"
        },
        "id": "c-LgXbW1-rbN",
        "outputId": "ee0d9bcc-7b12-496a-fe8a-4e0f542ee923"
      },
      "source": [
        "print(\"Etapa 1: Resultados\")\n",
        "\n",
        "n_sinc = (120/6) * 60\n",
        "print(\"\\nn_sinc - Velocidade síncrona = \" + str(n_sinc) + \" rpm\")\n",
        "\n",
        "n_m = (1-0.016) * n_sinc\n",
        "print(\"\\nn_m - Velocidade do eixo do motor = \" + str(n_m) + \" rpm\")"
      ],
      "execution_count": 125,
      "outputs": [
        {
          "output_type": "stream",
          "name": "stdout",
          "text": [
            "Etapa 1: Resultados\n",
            "\n",
            "n_sinc - Velocidade síncrona = 1200.0 rpm\n",
            "\n",
            "n_m - Velocidade do eixo do motor = 1180.8 rpm\n"
          ]
        }
      ]
    },
    {
      "cell_type": "markdown",
      "metadata": {
        "id": "JGb2iBhWTlVd"
      },
      "source": [
        "## Estapa 2: Cálculo da corrente do estator\n",
        "\n",
        "![](https://github.com/HenriqueMAP/electrical-induction-motor/blob/main/Circuito-Equivalente.png?raw=true)\n",
        "\n",
        "### Sub-etapa: Impedância do estator\n",
        "\n",
        "Z1 = R1 + jX1\n",
        "\n",
        "> retorna um número complexo, ou seja, Z1 = (real + jImaginário). Em Python, é uma tupla.\n",
        "\n",
        "---\n",
        "\n",
        "### Sub-etapa: Impedância do rotor\n",
        "\n",
        "Z2 = (R2/s) + jX2\n",
        "\n",
        "> retorna um número complexo, ou seja, Z2 = (real + jImaginário). Em Python, é uma tupla.\n",
        "\n",
        "---\n",
        "\n",
        "### Sub-etapa: Impedância equivalente\n",
        "\n",
        "Zeq = (Z2/Xm) + Z1\n",
        "\n",
        "> retorna um número complexo, ou seja, Zeq = (real + jImaginário). Em Python, é uma tupla.\n",
        "\n",
        "\n",
        "\n",
        "> *Observação:\n",
        "> \n",
        "> Processamento 1 (Z2/Xm) = ((Z2 * Xm) / (Z2 + Xm))\n",
        ">\n",
        "> Processamento 2 (Z2/Xm) = ((Z2Polar * XmPolar) / (Z2Retangular + XmRetangular))\n",
        "> \n",
        "> Z2Polar e XmPolar = (módulo ∟ ângulo)\n",
        ">\n",
        "> Z2Retangular e XmRetangular = (real + jImaginário)\n",
        ">\n",
        "> Processamento 3 (Z2/Xm) = ((Z2MultXmPolar) / (Z2PlusXmRetangular))\n",
        "> \n",
        "> Processamento 4 (Z2/Xm) = ((Z2MultXmPolar) / (Z2PlusXmPolar))\n",
        ">\n",
        "> Processamento 5 Zeq = Z2DivXmPolar + Z1Retangular\n",
        ">\n",
        "> Processamento 6 Zeq = Z2DivXmRetangular + Z1Retangular\n",
        ">\n",
        "> Processamento 7 Zeq = (real + jImaginário)\n",
        "\n",
        "---\n",
        "\n",
        "### Sub-etapa: Tensão no estator\n",
        "\n",
        "V1 = I1 + Zeq\n",
        "\n",
        "---\n",
        "\n",
        "#### Grandezas elétricas:\n",
        "\n",
        "- I1 = Corrente no estator | (A) - Ampère\n",
        "\n",
        "- jX1 = Impedância em formato imaginário do estator | (Ω) - Ohms\n",
        "\n",
        "- jX2 = Impedância em formato imaginário do rotor | (Ω) - Ohms\n",
        "\n",
        "- R1 = Resistência do estator | (Ω) - Ohms\n",
        "\n",
        "- R2 = Resistência do rotor | (Ω) - Ohms\n",
        "\n",
        "- s = Escorregamento | (%) - Porcentagem\n",
        "\n",
        "- V1 = Tensão no estator | (V) - Volts\n",
        "\n",
        "- Z1 = Impedância do estator | (Ω) - Ohms\n",
        "\n",
        "- Z2 = Impedância do rotor | (Ω) - Ohms\n",
        "\n",
        "- Zeq = Impedância equivalente | (Ω) - Ohms\n",
        "\n",
        "---"
      ]
    },
    {
      "cell_type": "code",
      "metadata": {
        "id": "RFDaGOjqGzAP",
        "colab": {
          "base_uri": "https://localhost:8080/"
        },
        "cellView": "code",
        "outputId": "1f9055c2-9263-4331-e8a6-60e70a00b291"
      },
      "source": [
        "print(\"Etapa 2: Resultados\")\n",
        "\n",
        "R1 = 0.271\n",
        "X1 = 1.12\n",
        "R2 = 0.188\n",
        "X2 = 1.91\n",
        "Xm = 23.10\n",
        "s  = 0.016\n",
        "\n",
        "Z1 = complex(R1, X1)\n",
        "print(\"\\nZ1 = \" + str(Z1) + \" Ohms\")\n",
        "\n",
        "Z2 = complex((R2/s), X2)\n",
        "print(\"\\nZ2 = \" + str(Z2) + \" Ohms\")\n",
        "\n",
        "XmRectangular = complex(0, Xm)\n",
        "print(\"\\nXm rect = \" + str(XmRectangular))\n",
        "\n",
        "XmPolarTupla = cmath.polar(XmRectangular)\n",
        "\n",
        "# XmPolarArray - Separando a parte real da imaginária\n",
        "XmPolarArray = []\n",
        "XmPolarArray.append(XmPolarTupla[0])\n",
        "XmPolarArray.append(XmPolarTupla[1])\n",
        "\n",
        "print(\"\\nXmPolar = \" + str(XmPolarArray))\n",
        "\n",
        "RadToDegrees = (180 / cmath.pi)\n",
        "\n",
        "XmPolarArray[1] = XmPolarArray[1] * (RadToDegrees)\n",
        "\n",
        "# Z2Array - Separando a parte real da imaginária\n",
        "Z2Array = []\n",
        "Z2Array = str(Z2).split(\"+\")\n",
        "Z2Array[0] = Z2Array[0].replace(\"(\", \"\")\n",
        "Z2Array[1] = Z2Array[1].replace(\")\", \"\")\n",
        "print(\"\\nZ2Array * XmPolarArray = \" + str(float(Z2Array[0]) * XmPolarArray[0]))\n",
        "\n",
        "Z2PolarTupla = cmath.polar(Z2)\n",
        "\n",
        "# Z2PolarArray - Separando a parte do módulo do ângulo\n",
        "Z2PolarArray = []\n",
        "Z2PolarArray.append(Z2PolarTupla[0])\n",
        "Z2PolarArray.append(Z2PolarTupla[1])\n",
        "Z2PolarArray[1] = Z2PolarArray[1] * (RadToDegrees)\n",
        "print(\"\\nZ2PolarArray = \" + str(Z2PolarArray))\n",
        "\n",
        "# Montando um array com os valores processados do numerador da divisão\n",
        "Z2ParalellXm = [str(float(Z2PolarArray[0]) * XmPolarArray[0]), \" < \" ,\n",
        "                str(float(Z2PolarArray[1]) + XmPolarArray[1])]\n",
        "\n",
        "print(\"\\nZ2ParalellXm = \" + str(Z2ParalellXm))\n",
        "\n",
        "# Montando um array com os valores processados do denominador da divisão\n",
        "Z2ParalellXm.append(Z2Array[0])\n",
        "Z2ParalellXm.append(\"+\")\n",
        "Z2ParalellXm.append(float(Z2Array[1].replace(\"j\",\"\")) + float(str(Xm).replace(\"j\",\"\")))\n",
        "\n",
        "print(\"\\nZ2ParalellXm = \" + str(Z2ParalellXm))\n",
        "\n",
        "# Tranformando a parte real e imaginária do denominador da divisão em Polar\n",
        "Z2ParalellXmRadianos = cmath.polar(complex(float(Z2ParalellXm[3]), float(Z2ParalellXm[5])))\n",
        "\n",
        "print(\"\\nZ2ParalellXmRadianos = \" + str(Z2ParalellXmRadianos))\n",
        "\n",
        "# Convertendo o valor Polar do denominador da divisão de Radianos para Graus\n",
        "Z2ParalellXmDegrees = []\n",
        "Z2ParalellXmDegrees.append(Z2ParalellXmRadianos[0])\n",
        "Z2ParalellXmDegrees.append(Z2ParalellXmRadianos[1] * RadToDegrees)\n",
        "\n",
        "print(\"\\nZ2ParalellXmDegrees = \" + str(Z2ParalellXmDegrees))\n",
        "\n",
        "# Finalmente, calculando a divisão entre os valores em módulo do numerador e denominador da divisão\n",
        "# E como parte da divisão, ocorre a subtração entre os valores do numerador e denominador dos ângulos\n",
        "# O valor resultante dessa operação é um número Polar composto de módulo e ângulo\n",
        "Z2ParalellXmResult = []\n",
        "Z2ParalellXmResult.append(float(Z2ParalellXm[0]) / float(Z2ParalellXmDegrees[0]))\n",
        "Z2ParalellXmResult.append(float(Z2ParalellXm[2]) - float(Z2ParalellXmDegrees[1]))\n",
        "\n",
        "print(\"\\nZ2ParalellXmResult = \" + str(Z2ParalellXmResult))\n",
        "\n",
        "# Processo de conversão de valor Polar para Retangular do resultado da divisão do Z2 com o XM\n",
        "# Em Python, é difícil enxergar, porém para utilizar uma função trigonométrica, é necessário\n",
        "# Converter o valor de Graus para Radianos, calcular a função trigonométrica, e só depois\n",
        "# Converter o resultado da função trigonométrica em Graus. É o que ocorre abaixo.\n",
        "#\n",
        "# Ou seja, em Python, uma função trigonométrica sempre recebe um valor em radianos e retorna o resultado em radianos.\n",
        "ZeqRealRadianos = (float(Z2ParalellXmResult[0])*math.degrees(math.cos(math.radians(float(Z2ParalellXmResult[1])))))\n",
        "ZeqRealGraus = (ZeqRealRadianos / RadToDegrees)\n",
        "print(\"\\nZeqRealGraus = \" + str(ZeqRealGraus))\n",
        "\n",
        "# Aqui ocorre o mesmo processamento de funcão trigonométrica com os tipos de Radianos e Graus\n",
        "ZeqImaginarioRadianos = (float(Z2ParalellXmResult[0])*math.degrees(math.sin(math.radians(float(Z2ParalellXmResult[1])))))\n",
        "ZeqImaginarioGraus = (ZeqImaginarioRadianos / RadToDegrees)\n",
        "print(\"\\nZeqImaginarioGraus = \" + str(ZeqImaginarioGraus))\n",
        "\n",
        "# Aqui retorna o valor completo em Retangular\n",
        "ZeqRect = complex(ZeqRealGraus, ZeqImaginarioGraus)\n",
        "print(\"\\nZeq = \" + str(ZeqRect))\n",
        "\n",
        "# ZeqArray - Separando a parte real da imaginária\n",
        "ZeqArray = []\n",
        "ZeqArray = str(ZeqRect).split(\"+\")\n",
        "ZeqArray[0] = ZeqArray[0].replace(\"(\", \"\")\n",
        "ZeqArray[1] = ZeqArray[1].replace(\")\", \"\")\n",
        "print(\"\\nZeqArray = \" + str(ZeqArray))\n",
        "\n",
        "# Z1Array - Separando a parte real da imaginária\n",
        "Z1Array = []\n",
        "Z1Array = str(Z1).split(\"+\")\n",
        "Z1Array[0] = Z1Array[0].replace(\"(\", \"\")\n",
        "Z1Array[1] = Z1Array[1].replace(\")\", \"\")\n",
        "print(\"\\nZ1Array = \" + str(Z1Array))\n",
        "\n",
        "# Realizando a soma final, do resultado da divisão entre Z2 e Xm, e somando com o Z1\n",
        "# Ou seja, Zeq = (Z2 / Xm) + Z1\n",
        "ZeqTotal = [] \n",
        "ZeqTotal.append(float(ZeqArray[0]) + float(Z1Array[0]))\n",
        "ZeqTotal.append(float(str(ZeqArray[1]).replace(\"j\",\"\")) + float(str(Z1Array[1]).replace(\"j\",\"\")) )\n",
        "\n",
        "# Conversão do valor resultante de Zeq em Retangular\n",
        "ZeqTotalComplex = complex(ZeqTotal[0], ZeqTotal[1])\n",
        "print(\"\\nZeqTotal (complexo)= \" + str(ZeqTotalComplex))\n",
        "\n",
        "# Conversão do valor resultante de Zeq em Polar\n",
        "ZeqTotalPolar = cmath.polar(ZeqTotalComplex)\n",
        "ZeqTotalPolarArray = []\n",
        "ZeqTotalPolarArray.append(str(ZeqTotalPolar[0]))\n",
        "ZeqTotalPolarArray.append(str((float(ZeqTotalPolar[1])*RadToDegrees)))\n",
        "\n",
        "print(\"\\nZeqTotal (polar)= \" + str(ZeqTotalPolarArray))\n",
        "\n",
        "# Cálculo final da corrente do Estator\n",
        "print(\"\\nI1 = (V1 / Zeq)\")\n",
        "\n",
        "V1 = (460 / pow(3,0.5))\n",
        "\n",
        "I1 = []\n",
        "I1.append(float(V1) / float(ZeqTotalPolarArray[0]))\n",
        "I1.append(\"-\" + str(ZeqTotalPolarArray[1]))\n",
        "\n",
        "print(\"\\nI1 = \" + str(I1[0]) + \" < \" + str(I1[1]) + \" Ampére\")\n",
        "\n",
        "print(\"\\nI1 (módulo) = \" + str(I1[0]) + \" Ampére\")"
      ],
      "execution_count": 126,
      "outputs": [
        {
          "output_type": "stream",
          "name": "stdout",
          "text": [
            "Etapa 2: Resultados\n",
            "\n",
            "Z1 = (0.271+1.12j) Ohms\n",
            "\n",
            "Z2 = (11.75+1.91j) Ohms\n",
            "\n",
            "Xm rect = 23.1j\n",
            "\n",
            "XmPolar = [23.1, 1.5707963267948966]\n",
            "\n",
            "Z2Array * XmPolarArray = 271.425\n",
            "\n",
            "Z2PolarArray = [11.904226140325123, 9.232855460038456]\n",
            "\n",
            "Z2ParalellXm = ['274.98762384151036', ' < ', '99.23285546003845']\n",
            "\n",
            "Z2ParalellXm = ['274.98762384151036', ' < ', '99.23285546003845', '11.75', '+', 25.01]\n",
            "\n",
            "Z2ParalellXmRadianos = (27.632636501065186, 1.1315893738413583)\n",
            "\n",
            "Z2ParalellXmDegrees = [27.632636501065186, 64.83529526296135]\n",
            "\n",
            "Z2ParalellXmResult = [9.95155217385464, 34.3975601970771]\n",
            "\n",
            "ZeqRealGraus = 8.211399432083239\n",
            "\n",
            "ZeqImaginarioGraus = 5.621948953497719\n",
            "\n",
            "Zeq = (8.211399432083239+5.621948953497719j)\n",
            "\n",
            "ZeqArray = ['8.211399432083239', '5.621948953497719j']\n",
            "\n",
            "Z1Array = ['0.271', '1.12j']\n",
            "\n",
            "ZeqTotal (complexo)= (8.48239943208324+6.741948953497719j)\n",
            "\n",
            "ZeqTotal (polar)= ['10.835357669083889', '38.478248118682124']\n",
            "\n",
            "I1 = (V1 / Zeq)\n",
            "\n",
            "I1 = 24.510600566975313 < -38.478248118682124 Ampére\n",
            "\n",
            "I1 (módulo) = 24.510600566975313 Ampére\n"
          ]
        }
      ]
    },
    {
      "cell_type": "markdown",
      "metadata": {
        "id": "yxinZuKV2kou"
      },
      "source": [
        "## Etapa 3: Cálculo de fator de potência (FP)\n",
        "\n",
        "FP = cos 𝜽"
      ]
    },
    {
      "cell_type": "code",
      "metadata": {
        "colab": {
          "base_uri": "https://localhost:8080/"
        },
        "id": "Dl-MoOmp2aMz",
        "outputId": "578f5e3f-094f-4983-de9d-6eec2ae8f8bf"
      },
      "source": [
        "cosI1FP = cmath.cos(-2.8656)\n",
        "\n",
        "print(\"\\n cosI1FP = \" + str(cosI1FP))"
      ],
      "execution_count": 127,
      "outputs": [
        {
          "output_type": "stream",
          "name": "stdout",
          "text": [
            "\n",
            " cosI1FP = (-0.9621551714625783+0j)\n"
          ]
        }
      ]
    },
    {
      "cell_type": "markdown",
      "metadata": {
        "id": "5zE00DpR0vNd"
      },
      "source": [
        "## Etapa 4: Corrente de rotor\n",
        "\n",
        "### Sub-etapa: Tensão de Thevénin\n",
        "\n",
        "Vth = V𝜽 * (Xm / √((R1^2) + (X1 + Xm)^2))\n",
        "\n",
        "---\n",
        "\n",
        "### Sub-etapa: Resistência de Thevénin\n",
        "\n",
        "Rth = R1 * (Xm / (X1 + Xm))^2\n",
        "\n",
        "---\n",
        "\n",
        "### Sub-etapa: Indutância de Thevénin\n",
        "\n",
        "Xth ≈ X1\n",
        "\n",
        "---\n",
        "\n",
        "### Sub-etapa: Corrente de rotor\n",
        "\n",
        "I2 = (Vth / (Zth + Z2))\n",
        "\n",
        "I2 = (Vth / √(Rth + (R2/s)^2 + (Xth + X2)^2))\n",
        "\n",
        "---\n",
        "\n",
        "#### Gradenzas elétricas:\n",
        "\n",
        "- I1 = Corrente do estator | (A) - Ampère\n",
        "\n",
        "- I2 = Corrente do rotor | (A) - Ampère\n",
        "\n",
        "- R1 = Resistência do estator | (Ω) - Ohms\n",
        "\n",
        "- R2 = Resistência do rotor | (Ω) - Ohms\n",
        "\n",
        "- V𝜽 = Tensão de fase | (V) - Volts\n",
        "\n",
        "- Vth = Tensão de Thevénin no rotor | (V) - Volts\n",
        "\n",
        "- X1 = Indutância do rotor | (Ω) - Ohms\n",
        "\n",
        "- Xth = Indutância de Thevénin | (Ω) - Ohms\n",
        "\n",
        "- Xm = Indutância | (Ω) - Ohms\n",
        "\n",
        "\n",
        "![](https://github.com/HenriqueMAP/electrical-induction-motor/blob/main/Explicacao-conjugado.png?raw=true)"
      ]
    },
    {
      "cell_type": "code",
      "metadata": {
        "colab": {
          "base_uri": "https://localhost:8080/"
        },
        "id": "bRLHxy3fE_WY",
        "outputId": "c2b42007-3e1f-4592-cca9-e943a854df28"
      },
      "source": [
        "V0 = (460 / pow(3, 0.5))\n",
        "R1 = 0.271\n",
        "X1 = 1.12\n",
        "R2 = 0.188\n",
        "X2 = 1.91\n",
        "Xm = 23.10\n",
        "s  = 0.016\n",
        "\n",
        "Vth = V0 * (Xm / pow((pow(R1, 2) + pow((X1 + Xm), 2)), 0.5))\n",
        "print(\"\\nVth - Tensão de Thevénin = \" + str(Vth) + \" Volts\")\n",
        "\n",
        "Rth = R1 * pow((Xm / (X1 + Xm)),0.5)\n",
        "print(\"\\nRth - Resistência de Thevénin = \" + str(Rth) + \" Ω\")\n",
        "\n",
        "Xth = X1\n",
        "\n",
        "I2 = (Vth / pow((Rth + pow((R2/s),2) + pow((Xth + X2),2)), 0.5))\n",
        "print(\"\\nI2 - Corrente do Rotor = \" + str(I2) + \" A\")\n",
        "\n",
        "Pef = (pow((3*I2), 2) * (R2/s)) / 1000\n",
        "print(\"\\nPEF - Perda no Entreferro = \" + str(Pef) + \" Watts ou kVa?\")"
      ],
      "execution_count": 128,
      "outputs": [
        {
          "output_type": "stream",
          "name": "stdout",
          "text": [
            "\n",
            "Vth - Tensão de Thevénin = 253.28406121497767 Volts\n",
            "\n",
            "Rth - Resistência de Thevénin = 0.26465994104333884 Ω\n",
            "\n",
            "I2 - Corrente do Rotor = 20.854509785319273 A\n",
            "\n",
            "PEF - Perda no Entreferro = 45.9917936643171 Watts ou kVa?\n"
          ]
        }
      ]
    },
    {
      "cell_type": "markdown",
      "metadata": {
        "id": "KTYpkErF0xIz"
      },
      "source": [
        "## Etapa 5: Conjugado de partida"
      ]
    },
    {
      "cell_type": "code",
      "metadata": {
        "colab": {
          "base_uri": "https://localhost:8080/",
          "height": 346
        },
        "id": "fEcXd1CjE_WZ",
        "outputId": "6ce57eef-ac58-4bc7-c13e-df68c98a32c9"
      },
      "source": [
        "import matplotlib.pyplot as plt\n",
        "import numpy as np\n",
        "\n",
        "Wsinc = (n_sinc / 9.5492)\n",
        "\n",
        "Tind = (pow((3*Vth),2) * (R2 / s)) / (Wsinc * (pow((Rth + (R2 / s)),2) + (pow((Xth + X2),2) )))\n",
        "print(\"\\nConjugado induzido = \" + str(Tind) + \" Nm\\n\")\n",
        "\n",
        "fig1, grafico1 = plt.subplots()\n",
        "velocidadeMec1 = 0\n",
        "SlippingUp1 = []\n",
        "\n",
        "\n",
        "for escorregamento in range(-1200,1200):\n",
        "  if escorregamento != 0:\n",
        "    SlippingUp1.append(float(1 / escorregamento))\n",
        "\n",
        "\n",
        "SlippingUp1 = np.array(SlippingUp1)\n",
        "\n",
        "index = 0 \n",
        "Tind1 = []\n",
        "\n",
        "for velocidadeSincrona in range(-1200,1200):\n",
        "  if velocidadeSincrona != 0:\n",
        "    slipping = float(SlippingUp1[index])\n",
        "    Tind1.append(float((pow((3*Vth),2) * (R2 / slipping)) / (Wsinc * (pow((Rth + (R2 / slipping)),2) + (pow((Xth + X2),2) )))))\n",
        "    index += 1\n",
        "\n",
        "\n",
        "Tind1 = np.array(Tind1)\n",
        "\n",
        "index = 0 \n",
        "Tind2 = []\n",
        "\n",
        "for velocidadeSincrona in range(-1200,1200):\n",
        "  if velocidadeSincrona != 0:\n",
        "    slipping = float(SlippingUp1[index])\n",
        "    Tind2.append(float((pow((3*Vth),2) * ((2*R2) / slipping)) / (Wsinc * (pow((Rth + ((2*R2) / slipping)),2) + (pow((Xth + X2),2) )))))\n",
        "    index += 1\n",
        "\n",
        "\n",
        "Tind2 = np.array(Tind2)\n",
        "\n",
        "\n",
        "grafico1.plot(SlippingUp1, Tind1, color='green', marker='o', linestyle='solid')\n",
        "grafico1.plot(SlippingUp1, Tind2, color='blue', marker='o', linestyle='solid')\n",
        "\n",
        "grafico1.set(xlabel='Velocidade síncrona (%)', ylabel='Conjugado induzido (Nm)',\n",
        "       title='Conjugado versus Velocidade')\n",
        "grafico1.grid()\n",
        "\n",
        "fig1.savefig(\"test.png\")\n",
        "plt.show()\n"
      ],
      "execution_count": 129,
      "outputs": [
        {
          "output_type": "stream",
          "name": "stdout",
          "text": [
            "\n",
            "Conjugado induzido = 351.6253983605509 Nm\n",
            "\n"
          ]
        },
        {
          "output_type": "display_data",
          "data": {
            "image/png": "[encoded data removed]",
            "text/plain": [
              "<Figure size 432x288 with 1 Axes>"
            ]
          },
          "metadata": {
            "needs_background": "light"
          }
        }
      ]
    },
    {
      "cell_type": "markdown",
      "metadata": {
        "id": "fuUuEciD0yqC"
      },
      "source": [
        "## Etapa 6: Conjugado máximo"
      ]
    },
    {
      "cell_type": "code",
      "metadata": {
        "colab": {
          "base_uri": "https://localhost:8080/"
        },
        "id": "w2H0ymP_nZe7",
        "outputId": "c05d9ffb-b498-44aa-8685-0ec912158482"
      },
      "source": [
        "print(\"\\nConjugado máximo = \" + str(np.amax(Tind2)) + \" Nm\")"
      ],
      "execution_count": 130,
      "outputs": [
        {
          "output_type": "stream",
          "name": "stdout",
          "text": [
            "\n",
            "Conjugado máximo = 694.801512867992 Nm\n"
          ]
        }
      ]
    },
    {
      "cell_type": "markdown",
      "metadata": {
        "id": "WOOSY5jX00L8"
      },
      "source": [
        "## Etapa 7: Escorregamento máximo"
      ]
    },
    {
      "cell_type": "markdown",
      "metadata": {
        "id": "0bl0_q3w01i7"
      },
      "source": [
        "## Etapa 8: Velocidade de ocorrência do escorregamento"
      ]
    }
  ]
}